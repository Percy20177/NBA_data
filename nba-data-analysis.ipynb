{
 "cells": [
  {
   "cell_type": "markdown",
   "metadata": {
    "id": "Y3oew0cj2OKj"
   },
   "source": [
    "# NBA Players Data Analysis\n",
    "![](https://www.nbaanalysis.net/wp-content/uploads/2021/05/LeBron-James-explains-why-Stephen-Curry-is-his-pick-for-2021-NBA-MVP.jpeg)\n",
    "\n",
    "\n",
    "\n",
    "\n",
    "This is an exploratory data analysis project on some of the greatest NBA players currently active in the league. It provides a comparison between the multiple historical seasons these players have had and in the end gives a crucial statistic which determines most MVP Seasons. \n",
    "\n",
    "The data used in this project is from kaggle and can found at this link: https://www.kaggle.com/drgilermo/nba-players-stats?select=Players.csv"
   ]
  },
  {
   "cell_type": "markdown",
   "metadata": {
    "id": "cCIIxe522OKj"
   },
   "source": [
    "## Downloading the Dataset\n",
    "\n",
    "I used a basketball stats dataset from Kaggle."
   ]
  },
  {
   "cell_type": "code",
   "execution_count": 2,
   "metadata": {
    "colab": {
     "base_uri": "https://localhost:8080/"
    },
    "executionInfo": {
     "elapsed": 21370,
     "status": "ok",
     "timestamp": 1628802323528,
     "user": {
      "displayName": "siddharth katta",
      "photoUrl": "https://lh3.googleusercontent.com/a-/AOh14Ghn0cc_mq-Sy1qdJSjrmHHLoF5jmfZ_VQ3tD01-Zw=s64",
      "userId": "17925252212579324278"
     },
     "user_tz": 420
    },
    "id": "oXVAxKlL2OKj",
    "outputId": "581eb77f-9155-48ef-d903-b5c7e2d563a3"
   },
   "outputs": [
    {
     "name": "stdout",
     "output_type": "stream",
     "text": [
      "\u001b[K     |████████████████████████████████| 20.6 MB 44.9 MB/s \n",
      "\u001b[?25h"
     ]
    }
   ],
   "source": [
    "!pip install jovian opendatasets plotly --upgrade --quiet"
   ]
  },
  {
   "cell_type": "markdown",
   "metadata": {
    "id": "J4Nzo0wD2OKj"
   },
   "source": [
    "Let's begin by downloading the data, and listing the files within the dataset."
   ]
  },
  {
   "cell_type": "code",
   "execution_count": 6,
   "metadata": {
    "executionInfo": {
     "elapsed": 160,
     "status": "ok",
     "timestamp": 1628802391480,
     "user": {
      "displayName": "siddharth katta",
      "photoUrl": "https://lh3.googleusercontent.com/a-/AOh14Ghn0cc_mq-Sy1qdJSjrmHHLoF5jmfZ_VQ3tD01-Zw=s64",
      "userId": "17925252212579324278"
     },
     "user_tz": 420
    },
    "id": "BKgxcoGR2OKk"
   },
   "outputs": [],
   "source": [
    "dataset_url = 'https://www.kaggle.com/drgilermo/nba-players-stats?select=Players.csv' "
   ]
  },
  {
   "cell_type": "code",
   "execution_count": 5,
   "metadata": {
    "colab": {
     "base_uri": "https://localhost:8080/"
    },
    "executionInfo": {
     "elapsed": 8458,
     "status": "ok",
     "timestamp": 1628802388650,
     "user": {
      "displayName": "siddharth katta",
      "photoUrl": "https://lh3.googleusercontent.com/a-/AOh14Ghn0cc_mq-Sy1qdJSjrmHHLoF5jmfZ_VQ3tD01-Zw=s64",
      "userId": "17925252212579324278"
     },
     "user_tz": 420
    },
    "id": "rcyf0IY52OKk",
    "outputId": "883f3270-2f2e-4b78-a950-87eba7b3d5d3"
   },
   "outputs": [
    {
     "name": "stdout",
     "output_type": "stream",
     "text": [
      "Please provide your Kaggle credentials to download this dataset. Learn more: http://bit.ly/kaggle-creds\n",
      "Your Kaggle username: siddharthkatta\n",
      "Your Kaggle Key: ··········\n"
     ]
    },
    {
     "name": "stderr",
     "output_type": "stream",
     "text": [
      "100%|██████████| 2.13M/2.13M [00:00<00:00, 83.3MB/s]"
     ]
    },
    {
     "name": "stdout",
     "output_type": "stream",
     "text": [
      "Downloading nba-players-stats.zip to ./nba-players-stats\n",
      "\n"
     ]
    },
    {
     "name": "stderr",
     "output_type": "stream",
     "text": [
      "\n"
     ]
    }
   ],
   "source": [
    "import opendatasets as od\n",
    "od.download(dataset_url)"
   ]
  },
  {
   "cell_type": "markdown",
   "metadata": {
    "id": "1286fpKw2OKk"
   },
   "source": [
    "The dataset has been downloaded and extracted."
   ]
  },
  {
   "cell_type": "code",
   "execution_count": 7,
   "metadata": {
    "executionInfo": {
     "elapsed": 161,
     "status": "ok",
     "timestamp": 1628802393770,
     "user": {
      "displayName": "siddharth katta",
      "photoUrl": "https://lh3.googleusercontent.com/a-/AOh14Ghn0cc_mq-Sy1qdJSjrmHHLoF5jmfZ_VQ3tD01-Zw=s64",
      "userId": "17925252212579324278"
     },
     "user_tz": 420
    },
    "id": "o92SBHHE2OKk"
   },
   "outputs": [],
   "source": [
    "data_dir = 'nba-players-stats'"
   ]
  },
  {
   "cell_type": "code",
   "execution_count": null,
   "metadata": {
    "id": "o8jJd85F2OKl"
   },
   "outputs": [],
   "source": [
    "import os\n",
    "os.listdir(data_dir)"
   ]
  },
  {
   "cell_type": "code",
   "execution_count": 9,
   "metadata": {
    "executionInfo": {
     "elapsed": 156,
     "status": "ok",
     "timestamp": 1628802395962,
     "user": {
      "displayName": "siddharth katta",
      "photoUrl": "https://lh3.googleusercontent.com/a-/AOh14Ghn0cc_mq-Sy1qdJSjrmHHLoF5jmfZ_VQ3tD01-Zw=s64",
      "userId": "17925252212579324278"
     },
     "user_tz": 420
    },
    "id": "xT3WySfe2OKl"
   },
   "outputs": [],
   "source": [
    "project_name = \"nba_data_analysis\""
   ]
  },
  {
   "cell_type": "code",
   "execution_count": 10,
   "metadata": {
    "executionInfo": {
     "elapsed": 1,
     "status": "ok",
     "timestamp": 1628802400328,
     "user": {
      "displayName": "siddharth katta",
      "photoUrl": "https://lh3.googleusercontent.com/a-/AOh14Ghn0cc_mq-Sy1qdJSjrmHHLoF5jmfZ_VQ3tD01-Zw=s64",
      "userId": "17925252212579324278"
     },
     "user_tz": 420
    },
    "id": "j49fLYmZ2OKl"
   },
   "outputs": [],
   "source": [
    "!pip install jovian --upgrade -q"
   ]
  },
  {
   "cell_type": "code",
   "execution_count": 11,
   "metadata": {
    "executionInfo": {
     "elapsed": 9,
     "status": "ok",
     "timestamp": 1628802400328,
     "user": {
      "displayName": "siddharth katta",
      "photoUrl": "https://lh3.googleusercontent.com/a-/AOh14Ghn0cc_mq-Sy1qdJSjrmHHLoF5jmfZ_VQ3tD01-Zw=s64",
      "userId": "17925252212579324278"
     },
     "user_tz": 420
    },
    "id": "hMZ9qgMv2OKl"
   },
   "outputs": [],
   "source": [
    "import jovian"
   ]
  },
  {
   "cell_type": "code",
   "execution_count": null,
   "metadata": {
    "colab": {
     "base_uri": "https://localhost:8080/"
    },
    "id": "PHJnYe0G2OKl",
    "outputId": "8831715f-8db6-4da6-8219-05fc7d7c19e2"
   },
   "outputs": [
    {
     "name": "stdout",
     "output_type": "stream",
     "text": [
      "[jovian] Detected Colab notebook...\u001b[0m\n",
      "[jovian] Please enter your API key ( from https://jovian.ai/ ):\u001b[0m\n",
      "API KEY: "
     ]
    }
   ],
   "source": [
    "jovian.commit(project=project_name)"
   ]
  },
  {
   "cell_type": "markdown",
   "metadata": {
    "id": "vff4S7ze2OKl"
   },
   "source": [
    "## Data Preparation and Cleaning\n",
    "\n",
    "This section of the project displays the basic information of the dataset and the summary statistics. \n",
    "\n"
   ]
  },
  {
   "cell_type": "code",
   "execution_count": null,
   "metadata": {
    "id": "nCU8sDqR2OKl"
   },
   "outputs": [],
   "source": [
    "import pandas as pd\n",
    "import plotly.express as px"
   ]
  },
  {
   "cell_type": "code",
   "execution_count": null,
   "metadata": {
    "id": "LcvPrdKr2OKm"
   },
   "outputs": [],
   "source": [
    "NBA_df = pd.read_csv(data_dir + '/Seasons_Stats.csv')"
   ]
  },
  {
   "cell_type": "code",
   "execution_count": null,
   "metadata": {
    "id": "HsEyNmjc2OKm"
   },
   "outputs": [],
   "source": [
    "NBA_df.info"
   ]
  },
  {
   "cell_type": "code",
   "execution_count": null,
   "metadata": {
    "id": "8USV2aUw2OKm",
    "scrolled": true
   },
   "outputs": [],
   "source": [
    "NBA_df.describe()"
   ]
  },
  {
   "cell_type": "code",
   "execution_count": null,
   "metadata": {
    "id": "WFtqJFhA2OKm"
   },
   "outputs": [],
   "source": [
    "fig = px.histogram(NBA_df, x='Age', marginal='box', color_discrete_sequence=['red'], nbins=47, title='Distribution of age')\n",
    "fig.update_layout(bargap=0.1)\n",
    "fig.show()"
   ]
  },
  {
   "cell_type": "markdown",
   "metadata": {
    "id": "2gT5wvd42OKm"
   },
   "source": [
    "As expected most players in this dataset are young between the ages of 20 and 35. This is when most players are physically in their prime and can perform at a high level. "
   ]
  },
  {
   "cell_type": "code",
   "execution_count": null,
   "metadata": {
    "id": "oEBgGR2p2OKm"
   },
   "outputs": [],
   "source": [
    "fig = px.histogram(NBA_df, x='Year', marginal='box', nbins=47, title='Distribution of Year')\n",
    "fig.update_layout(bargap=0.1)\n",
    "fig.show()"
   ]
  },
  {
   "cell_type": "markdown",
   "metadata": {
    "id": "-cfMlIyY2OKn"
   },
   "source": [
    "The amount of data collected from the NBA has been gradually increasing over the years. With the growing importance of data analytics in sports I believe that this data collection will keep growing into the future. "
   ]
  },
  {
   "cell_type": "code",
   "execution_count": null,
   "metadata": {
    "id": "tmYukTFV2OKm"
   },
   "outputs": [],
   "source": [
    "fig = px.histogram(NBA_df, x='Year', marginal='box', color_discrete_sequence=['red'], y='PF', nbins=47, title='Personal Fouls per year ')\n",
    "fig.update_layout(bargap=0.1)\n",
    "fig.show()"
   ]
  },
  {
   "cell_type": "markdown",
   "metadata": {
    "id": "L47sP5vn2ZTZ"
   },
   "source": [
    "Foul drawing has become 'skill' in the past few years. NBA refs are whistle happy and the players are happy to oblige. When someone cant seem to hit a shot that night they just drive to the paint chuck up a shot and get a foul call. This leads to easy points at the charity stripe. \n",
    "\n",
    "The NBA knows that offense increases viewership, so they have simply made defense impossible by calling touch fouls. "
   ]
  },
  {
   "cell_type": "code",
   "execution_count": null,
   "metadata": {
    "id": "S-f5efB2YWGq"
   },
   "outputs": [],
   "source": [
    "fig = px.histogram(NBA_df, x='Year', marginal='box', color_discrete_sequence=['red'], y='3PA', nbins=47, title='3 Point Attemps over the years ')\n",
    "fig.update_layout(bargap=0.1)\n",
    "fig.show()"
   ]
  },
  {
   "cell_type": "markdown",
   "metadata": {
    "id": "MIuplRwtYm98"
   },
   "source": [
    "This graph clearly shows the graudal increase in 3 point attemps since the 1980s. The record for most three pointers taken in a season keeps growing every year as teams continut to take more threes. "
   ]
  },
  {
   "cell_type": "markdown",
   "metadata": {
    "id": "mI6BQ2oG2YvB"
   },
   "source": []
  },
  {
   "cell_type": "code",
   "execution_count": null,
   "metadata": {
    "id": "m7sWjyqg2OKn"
   },
   "outputs": [],
   "source": []
  },
  {
   "cell_type": "code",
   "execution_count": null,
   "metadata": {
    "id": "aY9LsUX-2OKn"
   },
   "outputs": [],
   "source": [
    "import jovian"
   ]
  },
  {
   "cell_type": "code",
   "execution_count": null,
   "metadata": {
    "colab": {
     "base_uri": "https://localhost:8080/",
     "height": 86
    },
    "executionInfo": {
     "elapsed": 2754,
     "status": "ok",
     "timestamp": 1627597522303,
     "user": {
      "displayName": "siddharth katta",
      "photoUrl": "https://lh3.googleusercontent.com/a-/AOh14Ghn0cc_mq-Sy1qdJSjrmHHLoF5jmfZ_VQ3tD01-Zw=s64",
      "userId": "17925252212579324278"
     },
     "user_tz": 420
    },
    "id": "vL2e7LsZ2OKn",
    "outputId": "634d8de2-195a-4a75-e6fd-3708fe192adb"
   },
   "outputs": [
    {
     "name": "stdout",
     "output_type": "stream",
     "text": [
      "[jovian] Detected Colab notebook...\u001b[0m\n",
      "[jovian] Uploading colab notebook to Jovian...\u001b[0m\n",
      "Committed successfully! https://jovian.ai/siddharthkatta123/nba-data-analysis\n"
     ]
    },
    {
     "data": {
      "application/vnd.google.colaboratory.intrinsic+json": {
       "type": "string"
      },
      "text/plain": [
       "'https://jovian.ai/siddharthkatta123/nba-data-analysis'"
      ]
     },
     "execution_count": 29,
     "metadata": {
      "tags": []
     },
     "output_type": "execute_result"
    }
   ],
   "source": [
    "jovian.commit()"
   ]
  },
  {
   "cell_type": "markdown",
   "metadata": {
    "id": "MUd_Ke9y2OKn"
   },
   "source": [
    "## Exploratory Analysis and Visualization\n",
    "\n",
    "In this part of the project I will filter the dataset based on the most recent MVP winners and create comparisons between their respective MVP seasons. \n",
    "\n",
    "**Table of Contents:**\n",
    "\n",
    "1. Scoring comparison. \n",
    "2. Shooting efficiency. \n",
    "3. Overall Efficiency. \n",
    "4. Conclusion.\n",
    "\n"
   ]
  },
  {
   "cell_type": "markdown",
   "metadata": {
    "id": "96-zYKUn2OKn"
   },
   "source": [
    "Let's begin by importing`matplotlib.pyplot` and `seaborn`."
   ]
  },
  {
   "cell_type": "code",
   "execution_count": null,
   "metadata": {
    "id": "s-TkBb6l2OKn"
   },
   "outputs": [],
   "source": [
    "import seaborn as sns\n",
    "import matplotlib\n",
    "import matplotlib.pyplot as plt\n",
    "%matplotlib inline\n",
    "\n",
    "sns.set_style('darkgrid')\n",
    "matplotlib.rcParams['font.size'] = 14\n",
    "matplotlib.rcParams['figure.figsize'] = (9, 5)\n",
    "matplotlib.rcParams['figure.facecolor'] = '#00000000'"
   ]
  },
  {
   "cell_type": "code",
   "execution_count": null,
   "metadata": {
    "id": "RXxv9SGT2OKn"
   },
   "outputs": [],
   "source": [
    "lebron = NBA_df.Player == 'LeBron James'\n",
    "durant = NBA_df.Player == 'Kevin Durant'\n",
    "curry = NBA_df.Player == 'Stephen Curry'\n",
    "brook = NBA_df.Player == 'Russell Westbrook'\n",
    "rose = NBA_df.Player == 'Derrick Rose'"
   ]
  },
  {
   "cell_type": "markdown",
   "metadata": {
    "id": "vCmob9LW2OKo"
   },
   "source": [
    "# 1. Scoring Comparison. \n",
    "\n",
    "Scoring is the most lucrative skill in the NBA. So, naturally let's start by looking at the points per season comparison between these players. \n",
    "\n",
    "**Takeaways:**\n",
    "\n",
    "1. Lebron was alone at the top for a couple of seasons until KD entered in 2008. Then in 2010 KD scored more than Lebron and continued to do so until the pinnacle of his career where he won the NBA MVP award in 2014. \n",
    "\n",
    "\n",
    "2. In the same 2010 season where KD crossed Lebron a small kid from Davidson enterd the league. You might have heard his name Steph Curry. After have an abysmal first three seasons dealing with injuries he decided to shoot more threes in 2013 (more on this below) which drastically increased his productivity. He shot and made threes at an incredible clip making him the greatest shooter of all time and changing the NBA game forever. \n",
    "\n",
    "\n",
    "3. Playing alongside an all time great scorer Russell Westbrook had to share the ball with Durant but still managed to put up impressive numbers coming only second to Steph Curry in the 2015 season. This constraint was lifted when Kevin Durant decided to join the Warriors in the 2016. Westbrook went ballistic as the highest scorer in the 2017 season and also won MVP honors that year. "
   ]
  },
  {
   "cell_type": "code",
   "execution_count": null,
   "metadata": {
    "id": "FBRA2fID2OKo"
   },
   "outputs": [],
   "source": [
    "plt.figure(figsize=(20,10))\n",
    "plt.plot(NBA_df[lebron].Year,NBA_df[lebron].PTS, marker = 'o')\n",
    "plt.plot(NBA_df[durant].Year,NBA_df[durant].PTS, marker = 'x')\n",
    "plt.plot(NBA_df[curry].Year,NBA_df[curry].PTS, marker = 'x')\n",
    "plt.plot(NBA_df[brook].Year,NBA_df[brook].PTS, marker = 'o')\n",
    "\n",
    "\n",
    "\n",
    "plt.xlabel('Season')\n",
    "plt.ylabel('Total points scored')\n",
    "plt.legend(['Lebron', 'Durant', 'Curry','Westbrook'])\n",
    "\n",
    "plt.title(\"Points per season comparison\")"
   ]
  },
  {
   "cell_type": "markdown",
   "metadata": {
    "id": "pgnQSdDG2OKo"
   },
   "source": [
    "# 2. Shooting Efficiency \n",
    "\n",
    "Many modern NBA teams live or die by the three point line. In the \"good old days\" players didn't shoot as many three pointers as they do in the modern game. The game was mostly based on bigs who could get to the cup or shoot from the mid range. This gave a severe advatage to taller and broader players compared to the smaller ones. That is until a 6'3 guard from Davidon lit up the league from the three point line. \n",
    "\n",
    "**Takeaways:**\n",
    "\n",
    "1. Steph Curry took the league by storm in the 2013 season as he quadrupled his number of 3PA to 600 compared to his previous season of 150. The previous high among these players was by Durant of around 400. So, this type of volume shooting from Curry was mind boggling. \n",
    "\n",
    "\n",
    "2. Now based on common sense we would think that as a player shoots more threes his shooting percentage decreases. Since he is taking more shots farther away from the rim..... right? well yes, if you were a normal. Steph Curry is not normal. In the 2013 year yes he had a worse shooting percentage than before, but since then his true shooting percentage has gradually been increasing with his 3 point attempts ultimately peaking in 2016. "
   ]
  },
  {
   "cell_type": "code",
   "execution_count": null,
   "metadata": {
    "id": "f_y6-5rf2OKp"
   },
   "outputs": [],
   "source": [
    "plt.figure(figsize=(15,10))\n",
    "plt.plot(NBA_df[lebron].Year,NBA_df[lebron][\"3PA\"], marker = 'o')\n",
    "plt.plot(NBA_df[durant].Year,NBA_df[durant][\"3PA\"], marker = 'x')\n",
    "plt.plot(NBA_df[curry].Year,NBA_df[curry][\"3PA\"], marker = 'x')\n",
    "plt.plot(NBA_df[brook].Year,NBA_df[brook][\"3PA\"], marker = 'o')\n",
    "\n",
    "\n",
    "plt.xlabel('Season')\n",
    "plt.ylabel('3PA')\n",
    "plt.legend(['Lebron', 'Durant', 'Curry', 'Westbrook'])\n",
    "\n",
    "plt.title(\"Number of 3 pointers attempted per season\")"
   ]
  },
  {
   "cell_type": "code",
   "execution_count": null,
   "metadata": {
    "id": "wEC6WuSS2OKp"
   },
   "outputs": [],
   "source": [
    "plt.figure(figsize=(15,10))\n",
    "plt.plot(NBA_df[lebron].Year,NBA_df[lebron][\"TS%\"], marker = 'o')\n",
    "plt.plot(NBA_df[durant].Year,NBA_df[durant][\"TS%\"], marker = 'x')\n",
    "plt.plot(NBA_df[curry].Year,NBA_df[curry][\"TS%\"], marker = 'x')\n",
    "plt.plot(NBA_df[brook].Year,NBA_df[brook][\"TS%\"], marker = 'o')\n",
    "\n",
    "\n",
    "plt.xlabel('Season')\n",
    "plt.ylabel('TS%')\n",
    "plt.legend(['Lebron', 'Durant', 'Curry', 'Westbrook'])\n",
    "\n",
    "plt.title(\"True Shooting comparison\")"
   ]
  },
  {
   "cell_type": "markdown",
   "metadata": {
    "id": "6dxrm3j92OKp"
   },
   "source": [
    "# **Overall efficiency**\n",
    "\n",
    "Since there is a lot going on in this chart I'm going to break it down into smaller pieces.\n",
    "\n",
    "**Lebron James**\n",
    "\n",
    "There is no question that Lebron has been dominating the league since he entered in 2003. According to the graph 2009 was arguably Lebrons best year in the league (this dataset only includes data till the 2017 season) coincidentally he won MVP that year. His other MVPs were in 2010, 2012, and 2013 (Derrick Rose won in 2011) even though Lebron had the highest PER. \n",
    "\n",
    "**Kevin Durant**\n",
    "\n",
    "After Lebrons domination till 2013 in 2014 KD showed up. The graph shows that KD had the highest PER in 2014 that's the same year that he won MVP. \n",
    "\n",
    "**Steph Curry**\n",
    "\n",
    "This small town gaurd from Davidson took the league by storm draining threes from all over the court. In 2015 and 2016 he had the highest PER in the league and you guessed it he won back to back MVPs in 2015 and 2016. \n",
    "\n",
    "**Russell Westbrook**\n",
    "\n",
    "In 2017  after Durant left the Thunder Russell Westbrook had the monster season with the highest PER which ultimately lead to him winning the MVP award that year.\n",
    "\n",
    "**Derrick Rose**\n",
    "\n",
    "In 2011 Rose won the MVP which put a hole in what could have been a 5 time MVP streak for Lebron James. As the chart shows this MVP was an anamoly since Lebron had a much more efficient season. This was most likely due to voter fatigue and people being tired of seeing Lebron win. The Bulls also had a better record. \n",
    "\n",
    "**The one comomon factor between all the MVPs in this chart is that whoever has the highest PER in a given year wins MVP. Or at least they did for the better part of the 2010s. So, at the end of the year it would be a good bet to predict that the player with the highest PER will win MVP that season.**\n",
    "\n"
   ]
  },
  {
   "cell_type": "code",
   "execution_count": null,
   "metadata": {
    "id": "FDH6IR9W2OKq"
   },
   "outputs": [],
   "source": [
    "plt.figure(figsize=(15,10))\n",
    "plt.plot(NBA_df[lebron].Year,NBA_df[lebron].PER, marker = 'o')\n",
    "plt.plot(NBA_df[durant].Year,NBA_df[durant].PER, marker = 'x')\n",
    "plt.plot(NBA_df[curry].Year,NBA_df[curry].PER, marker = 'x')\n",
    "plt.plot(NBA_df[brook].Year,NBA_df[brook].PER, marker = 'o')\n",
    "plt.plot(NBA_df[rose].Year,NBA_df[rose].PER, marker = 'o')\n",
    "\n",
    "plt.xlabel('Season')\n",
    "plt.ylabel('PER')\n",
    "plt.legend(['Lebron', 'Durant', 'Curry', 'Westbrook', 'Rose'])\n",
    "\n",
    "plt.title(\"PER comparison\")"
   ]
  },
  {
   "cell_type": "markdown",
   "metadata": {
    "id": "87h7vzuE2OKq"
   },
   "source": [
    "## Inferences and Conclusion\n",
    "\n",
    "The NBA has evolved over time, the number of points scored per game has increase dramatically with the growth of the three point line. The foul baiting and getting to the free throw line is also a major factor that has significantly contributed to the increase in scoring. \n",
    "\n",
    "To win an MVP award a player must have the highest PER with a good record. "
   ]
  },
  {
   "cell_type": "code",
   "execution_count": null,
   "metadata": {
    "id": "1_E2MEVt2OKq"
   },
   "outputs": [],
   "source": [
    "import jovian"
   ]
  },
  {
   "cell_type": "code",
   "execution_count": null,
   "metadata": {
    "id": "3hTucHwm2OKq",
    "outputId": "3b5e5b20-cf61-43ad-f63b-2204b3a1fa84",
    "scrolled": true
   },
   "outputs": [
    {
     "data": {
      "application/javascript": [
       "window.require && require([\"base/js/namespace\"],function(Jupyter){Jupyter.notebook.save_checkpoint()})"
      ],
      "text/plain": [
       "<IPython.core.display.Javascript object>"
      ]
     },
     "metadata": {
      "tags": []
     },
     "output_type": "display_data"
    }
   ],
   "source": [
    "jovian.commit()"
   ]
  }
 ],
 "metadata": {
  "colab": {
   "name": "zerotopandas-course-project.ipynb",
   "provenance": []
  },
  "kernelspec": {
   "display_name": "Python 3 (ipykernel)",
   "language": "python",
   "name": "python3"
  },
  "language_info": {
   "codemirror_mode": {
    "name": "ipython",
    "version": 3
   },
   "file_extension": ".py",
   "mimetype": "text/x-python",
   "name": "python",
   "nbconvert_exporter": "python",
   "pygments_lexer": "ipython3",
   "version": "3.9.6"
  }
 },
 "nbformat": 4,
 "nbformat_minor": 0
}